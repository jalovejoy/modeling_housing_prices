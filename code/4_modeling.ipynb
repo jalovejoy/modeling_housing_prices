{
 "cells": [
  {
   "cell_type": "markdown",
   "metadata": {},
   "source": [
    "# Table of contents\n",
    "\n",
    "7. [Model Testing](#ModelTesting)\n",
    "    1. [Setting models](#SettingModels)\n",
    "    2. [Testing models](#TestingModels)\n",
    "    3. [Grid search optimization](#GridSearch)\n",
    "    4. [Visualizing model](#VisualModel)\n",
    "8. [Running Model on Test Data](#RunningModel)"
   ]
  },
  {
   "cell_type": "markdown",
   "metadata": {},
   "source": [
    "# 7) Model Testing<a name=\"ModelTesting\"></a>"
   ]
  },
  {
   "cell_type": "markdown",
   "metadata": {},
   "source": [
    "### Setting models<a name=\"SettingModels\"></a>\n"
   ]
  },
  {
   "cell_type": "code",
   "execution_count": 1,
   "metadata": {},
   "outputs": [],
   "source": [
    "import numpy as np\n",
    "import pandas as pd\n",
    "\n",
    "import seaborn as sns\n",
    "import matplotlib.pyplot as plt\n",
    "\n",
    "from sklearn.linear_model import LinearRegression, LassoCV, Lasso, RidgeCV, Ridge, ElasticNetCV\n",
    "from sklearn.model_selection import cross_val_score, GridSearchCV\n",
    "from sklearn.preprocessing import StandardScaler, PowerTransformer\n",
    "\n",
    "from IPython.display import display\n",
    "pd.options.display.max_columns = None\n",
    "\n",
    "%matplotlib inline"
   ]
  },
  {
   "cell_type": "code",
   "execution_count": 2,
   "metadata": {},
   "outputs": [],
   "source": [
    "## Importing data\n",
    "train = pd.read_csv('../datasets/exports/train_clean.csv')\n",
    "test = pd.read_csv('../datasets/exports/test_clean.csv')"
   ]
  },
  {
   "cell_type": "code",
   "execution_count": 3,
   "metadata": {},
   "outputs": [],
   "source": [
    "## Setting X & y\n",
    "train_filter = ['Neighborhood_Edwards', 'Neighborhood_IDOTRR', 'Neighborhood_NAmes',\n",
    "                'Neighborhood_NoRidge', 'Neighborhood_NridgHt',\n",
    "       'Neighborhood_OldTown', 'Neighborhood_Somerst', 'Neighborhood_StoneBr', 'TotalArea',\n",
    "       'QualMetric', 'TotalBaths', 'PorchArea','mansion','YearRemod/Add','SalePriceLog','SalePrice']\n",
    "df = train[train_filter].dropna() ## Switching to a more manageable dataframe here\n",
    "y = df['SalePriceLog']\n",
    "X = df[train_filter].drop(columns=['SalePriceLog','SalePrice'])"
   ]
  },
  {
   "cell_type": "code",
   "execution_count": 4,
   "metadata": {},
   "outputs": [],
   "source": [
    "## Instantiating models and transformers I want to test out\n",
    "lr = LinearRegression()\n",
    "lasso = LassoCV(cv=5)\n",
    "ridge = RidgeCV(cv=5)\n",
    "elast = ElasticNetCV(cv=5)\n",
    "SS = StandardScaler()\n",
    "pt= PowerTransformer()"
   ]
  },
  {
   "cell_type": "markdown",
   "metadata": {},
   "source": [
    "### Testing models<a name=\"TestingModels\"></a>"
   ]
  },
  {
   "cell_type": "code",
   "execution_count": 5,
   "metadata": {},
   "outputs": [
    {
     "name": "stderr",
     "output_type": "stream",
     "text": [
      "/anaconda3/lib/python3.6/site-packages/sklearn/preprocessing/data.py:645: DataConversionWarning: Data with input dtype int64, float64 were all converted to float64 by StandardScaler.\n",
      "  return self.partial_fit(X, y)\n",
      "/anaconda3/lib/python3.6/site-packages/sklearn/base.py:464: DataConversionWarning: Data with input dtype int64, float64 were all converted to float64 by StandardScaler.\n",
      "  return self.fit(X, **fit_params).transform(X)\n"
     ]
    },
    {
     "name": "stdout",
     "output_type": "stream",
     "text": [
      "Linear Regression\n",
      "Cross Val Scores:  [0.85402357 0.8754069  0.89684612 0.8177542  0.89007159]\n",
      "Avg. CV Score:  0.86682\n",
      "\n",
      "Lasso\n",
      "Cross Val Score:  [0.85399199 0.87552365 0.89660687 0.81761253 0.89031015]\n",
      "Avg. CV Score:  0.86681\n",
      "\n",
      "Ridge\n",
      "Cross Val Score:  [0.85405782 0.87548454 0.89688957 0.81744141 0.89037612]\n",
      "Avg. CV Score:  0.86685\n",
      "\n",
      "Elastic Net\n",
      "Cross Val Score:  [0.85399479 0.87552873 0.89661017 0.8175968  0.89042783]\n",
      "Avg. CV Score:  0.86683\n"
     ]
    }
   ],
   "source": [
    "## Printout of key scores I want to evaluate my model with\n",
    "## NO POWER TRANSFORMATION\n",
    "\n",
    "X_scaled = SS.fit_transform(X)\n",
    "\n",
    "print(\"Linear Regression\\nCross Val Scores: \",\n",
    "      cross_val_score(lr, X_scaled, y, cv=5))\n",
    "print(\"Avg. CV Score: \", round(cross_val_score(lr, X_scaled, y, cv=5).mean(),5))\n",
    "\n",
    "print(\"\\nLasso\\nCross Val Score: \",\n",
    "      cross_val_score(lasso, X_scaled, y, cv=5))\n",
    "print(\"Avg. CV Score: \", round(cross_val_score(lasso, X_scaled, y, cv=5).mean(),5))\n",
    "\n",
    "print(\"\\nRidge\\nCross Val Score: \", \n",
    "      cross_val_score(ridge, X_scaled, y, cv=5))\n",
    "print(\"Avg. CV Score: \", round(cross_val_score(ridge, X_scaled, y, cv=5).mean(),5))\n",
    "\n",
    "print(\"\\nElastic Net\\nCross Val Score: \", \n",
    "      cross_val_score(elast, X_scaled, y, cv=5))\n",
    "print(\"Avg. CV Score: \", round(cross_val_score(elast, X_scaled, y, cv=5).mean(),5))\n",
    "\n",
    "#### I liked Ridge though they were all VERY similar"
   ]
  },
  {
   "cell_type": "code",
   "execution_count": 6,
   "metadata": {},
   "outputs": [
    {
     "name": "stdout",
     "output_type": "stream",
     "text": [
      "Linear Regression\n",
      "Cross Val Scores:  [0.85402357 0.8754069  0.89684612 0.8177542  0.89007159]\n",
      "Avg. CV Score:  0.86682\n"
     ]
    },
    {
     "name": "stderr",
     "output_type": "stream",
     "text": [
      "/anaconda3/lib/python3.6/site-packages/numpy/core/_methods.py:121: RuntimeWarning: overflow encountered in multiply\n",
      "  x = um.multiply(x, x, out=x)\n"
     ]
    },
    {
     "name": "stdout",
     "output_type": "stream",
     "text": [
      "\n",
      "Lasso\n",
      "Cross Val Score:  [0.85399199 0.87552365 0.89660687 0.81761253 0.89031015]\n",
      "Avg. CV Score:  0.86681\n",
      "\n",
      "Ridge\n",
      "Cross Val Score:  [0.85405782 0.87548454 0.89688957 0.81744141 0.89037612]\n",
      "Avg. CV Score:  0.86685\n",
      "\n",
      "Elastic Net\n",
      "Cross Val Score:  [0.85399479 0.87552873 0.89661017 0.8175968  0.89042783]\n",
      "Avg. CV Score:  0.86683\n"
     ]
    }
   ],
   "source": [
    "## Same test but trying out the PowerTransformer\n",
    "## POWER TRANSFORMATION\n",
    "X_scaled_pt = pt.fit_transform(X)\n",
    "\n",
    "## Printout of key scores I want to evaluate my model with\n",
    "print(\"Linear Regression\\nCross Val Scores: \",\n",
    "      cross_val_score(lr, X_scaled, y, cv=5))\n",
    "\n",
    "print(\"Avg. CV Score: \", round(cross_val_score(lr, X_scaled, y, cv=5).mean(),5))\n",
    "print(\"\\nLasso\\nCross Val Score: \",\n",
    "      cross_val_score(lasso, X_scaled, y, cv=5))\n",
    "\n",
    "print(\"Avg. CV Score: \", round(cross_val_score(lasso, X_scaled, y, cv=5).mean(),5))\n",
    "print(\"\\nRidge\\nCross Val Score: \", \n",
    "      cross_val_score(ridge, X_scaled, y, cv=5))\n",
    "\n",
    "print(\"Avg. CV Score: \", round(cross_val_score(ridge, X_scaled, y, cv=5).mean(),5))\n",
    "print(\"\\nElastic Net\\nCross Val Score: \", \n",
    "      cross_val_score(elast, X_scaled, y, cv=5))\n",
    "\n",
    "print(\"Avg. CV Score: \", round(cross_val_score(elast, X_scaled, y, cv=5).mean(),5))\n",
    "\n",
    "#### Ridge, with the power transformation, seems marginally better than the others"
   ]
  },
  {
   "cell_type": "code",
   "execution_count": 7,
   "metadata": {},
   "outputs": [
    {
     "name": "stdout",
     "output_type": "stream",
     "text": [
      "Ridge Alpha:  1.0\n",
      "Neighborhood_Edwards -0.012914180087293023\n",
      "Neighborhood_IDOTRR -0.02437523271397828\n",
      "Neighborhood_NAmes 0.008059626460224756\n",
      "Neighborhood_NoRidge 0.014042802958874698\n",
      "Neighborhood_NridgHt 0.019148785439248445\n",
      "Neighborhood_OldTown -0.03292339015390946\n",
      "Neighborhood_Somerst -0.002304296795009742\n",
      "Neighborhood_StoneBr 0.015215160119600174\n",
      "TotalArea 0.17874692815695345\n",
      "QualMetric 0.141924038996011\n",
      "TotalBaths 0.03076370418612768\n",
      "PorchArea 0.025336571820408837\n",
      "mansion -0.04183430959468013\n",
      "YearRemod/Add 0.032526737681208215\n"
     ]
    }
   ],
   "source": [
    "## Instantiating a Ridge model\n",
    "ridge = Ridge()\n",
    "\n",
    "## Examining coefficients to see what helped here\n",
    "ridge.fit(X_scaled_pt, y)\n",
    "print('Ridge Alpha: ', ridge.alpha)\n",
    "for l, c in zip(train_filter, ridge.coef_):\n",
    "    print(l, c)"
   ]
  },
  {
   "cell_type": "markdown",
   "metadata": {},
   "source": [
    "### Grid search optimization<a name=\"GridSearch\"></a>\n"
   ]
  },
  {
   "cell_type": "code",
   "execution_count": 8,
   "metadata": {},
   "outputs": [
    {
     "data": {
      "text/plain": [
       "-0.021622952769118846"
      ]
     },
     "execution_count": 8,
     "metadata": {},
     "output_type": "execute_result"
    }
   ],
   "source": [
    "## Optimizing ridge features to squeeze out a few extra Kaggle points\n",
    "ridge = Ridge()\n",
    "\n",
    "## Setting alphas -- roughly around what RidgeCV identified as best alpha\n",
    "alphas = np.linspace(0, 10, num=40)\n",
    "\n",
    "## Esatablishing my parameters\n",
    "ridge_params = {\n",
    "    'alpha' : alphas,\n",
    "    'normalize' : [True, False],\n",
    "    'solver' : ['auto', 'svd', 'cholesky', 'lsqr', 'sparse_cg', 'sag', 'saga']\n",
    "}\n",
    "\n",
    "## Establishing the GridSearchCV on those parameters\n",
    "grid = GridSearchCV(ridge,\n",
    "                    param_grid=ridge_params,\n",
    "                    cv=5,\n",
    "                   scoring = 'neg_mean_squared_error') ## Optimizing for what Kaggle is scoring on..\n",
    "\n",
    "## Running the GridSearchCV\n",
    "results = grid.fit(X_scaled_pt, y)\n",
    "\n",
    "## Identifying the best score I can get here\n",
    "results.best_score_"
   ]
  },
  {
   "cell_type": "code",
   "execution_count": 9,
   "metadata": {},
   "outputs": [
    {
     "data": {
      "text/plain": [
       "{'alpha': 3.0769230769230766, 'normalize': False, 'solver': 'saga'}"
      ]
     },
     "execution_count": 9,
     "metadata": {},
     "output_type": "execute_result"
    }
   ],
   "source": [
    "## Examining the ideal parameters\n",
    "results.best_params_\n",
    "\n",
    "#### NOTE: Running this a few times, the ideal params change. I'm guessing they just don't have much\n",
    "#### impact and it is changing depending on the K-Fold"
   ]
  },
  {
   "cell_type": "code",
   "execution_count": 10,
   "metadata": {},
   "outputs": [
    {
     "data": {
      "text/plain": [
       "Ridge(alpha=3.0769230769230766, copy_X=True, fit_intercept=True,\n",
       "   max_iter=None, normalize=False, random_state=None, solver='saga',\n",
       "   tol=0.001)"
      ]
     },
     "execution_count": 10,
     "metadata": {},
     "output_type": "execute_result"
    }
   ],
   "source": [
    "## Instantiates and fits final Ridge model with ideal parameters identified above\n",
    "ridge = Ridge(alpha = results.best_params_['alpha'],\n",
    "              normalize = results.best_params_['normalize'],\n",
    "              solver = results.best_params_['solver'])\n",
    "ridge.fit(X_scaled_pt, y)"
   ]
  },
  {
   "cell_type": "markdown",
   "metadata": {},
   "source": [
    "### Visualizing Model<a name=\"VisualModel\"></a>"
   ]
  },
  {
   "cell_type": "code",
   "execution_count": 11,
   "metadata": {},
   "outputs": [],
   "source": [
    "## Adding my predictions to the dataframe\n",
    "df['yhat'] = np.exp(ridge.predict(X_scaled_pt))\n",
    "\n",
    "## Adding my error values to the dataframe\n",
    "df['error'] = df['yhat'] - df['SalePrice']"
   ]
  },
  {
   "cell_type": "code",
   "execution_count": 12,
   "metadata": {},
   "outputs": [
    {
     "data": {
      "image/png": "[encoded data removed]",
      "text/plain": [
       "<Figure size 576x576 with 1 Axes>"
      ]
     },
     "metadata": {
      "needs_background": "light"
     },
     "output_type": "display_data"
    }
   ],
   "source": [
    "## Plotting the actuals against the predictions to find outliers\n",
    "## Coloring model with one of my features (I looked at a few)\n",
    "plt.figure(figsize=(8,8))\n",
    "plt.scatter(df['SalePrice'], df['yhat'], c=df['QualMetric'], alpha=.5, cmap='viridis');"
   ]
  },
  {
   "cell_type": "code",
   "execution_count": 13,
   "metadata": {},
   "outputs": [
    {
     "data": {
      "image/png": "[encoded data removed]",
      "text/plain": [
       "<Figure size 1008x504 with 1 Axes>"
      ]
     },
     "metadata": {
      "needs_background": "light"
     },
     "output_type": "display_data"
    }
   ],
   "source": [
    "## Plotting errors on histogram to make sure it's normal(ish)\n",
    "#### Would like to add KDE line\n",
    "plt.figure(figsize=(14,7))\n",
    "plt.hist(df['error'], bins=50);"
   ]
  },
  {
   "cell_type": "code",
   "execution_count": 14,
   "metadata": {},
   "outputs": [
    {
     "data": {
      "image/png": "[encoded data removed]",
      "text/plain": [
       "<Figure size 432x432 with 3 Axes>"
      ]
     },
     "metadata": {
      "needs_background": "light"
     },
     "output_type": "display_data"
    }
   ],
   "source": [
    "## (Plotting distribution of actual target vs predictions similar to 1st visualization)\n",
    "sns.jointplot(df['SalePrice'],\n",
    "              df['yhat'],\n",
    "             kind = 'kde');"
   ]
  },
  {
   "cell_type": "code",
   "execution_count": 15,
   "metadata": {},
   "outputs": [
    {
     "name": "stderr",
     "output_type": "stream",
     "text": [
      "/anaconda3/lib/python3.6/site-packages/sklearn/preprocessing/data.py:645: DataConversionWarning: Data with input dtype int64, float64 were all converted to float64 by StandardScaler.\n",
      "  return self.partial_fit(X, y)\n",
      "/anaconda3/lib/python3.6/site-packages/sklearn/base.py:464: DataConversionWarning: Data with input dtype int64, float64 were all converted to float64 by StandardScaler.\n",
      "  return self.fit(X, **fit_params).transform(X)\n"
     ]
    }
   ],
   "source": [
    "## Creating a dataframe where I can see what is abnormal about mis-predicted values\n",
    "df_std_cols = list(train.select_dtypes(include=[np.number]).columns)\n",
    "df_std_data = SS.fit_transform(train.select_dtypes(include=[np.number]))\n",
    "df_std = pd.DataFrame(data=df_std_data, columns=df_std_cols)"
   ]
  },
  {
   "cell_type": "code",
   "execution_count": 16,
   "metadata": {},
   "outputs": [],
   "source": [
    "## Storing 5 most under predicted values\n",
    "under_pred5 = list(df.sort_values(by='error').head(5).index)"
   ]
  },
  {
   "cell_type": "code",
   "execution_count": 17,
   "metadata": {
    "scrolled": true
   },
   "outputs": [
    {
     "data": {
      "text/plain": [
       "MoSold                 -0.590326\n",
       "PID                    -0.588258\n",
       "Neighborhood_NAmes     -0.421970\n",
       "HouseAge               -0.407387\n",
       "EnclosedPorch          -0.377264\n",
       "BsmtFinType2           -0.330817\n",
       "MSSubClass_50          -0.326885\n",
       "WoodDeckSF             -0.316171\n",
       "BsmtFinSF2             -0.290730\n",
       "Neighborhood_Edwards   -0.273766\n",
       "Neighborhood_Somerst   -0.260141\n",
       "BsmtHalfBath           -0.252125\n",
       "MSSubClass             -0.233775\n",
       "MSSubClass_30          -0.227585\n",
       "KitchenAbvGr           -0.204568\n",
       "Neighborhood_IDOTRR    -0.186583\n",
       "Neighborhood_NoRidge   -0.154803\n",
       "YrSold                 -0.133964\n",
       "3SsnPorch              -0.102738\n",
       "MiscVal                -0.089968\n",
       "PoolArea               -0.063480\n",
       "Id                     -0.060008\n",
       "BsmtFullBath           -0.052676\n",
       "BsmtCond               -0.032842\n",
       "mansion                -0.031242\n",
       "GarageCond              0.107952\n",
       "BsmtFinType1            0.162968\n",
       "OverallCond             0.215386\n",
       "CentralAir              0.271702\n",
       "ExterCond               0.306380\n",
       "                          ...   \n",
       "GarageYrBlt             1.002268\n",
       "HalfBath                1.255611\n",
       "PorchArea               1.267730\n",
       "TotalBaths              1.337096\n",
       "Neighborhood_NridgHt    1.439654\n",
       "BsmtExposure            1.440312\n",
       "BsmtQual                1.448223\n",
       "FullBath                1.498183\n",
       "OpenPorchSF             1.505196\n",
       "BsmtUnfSF               1.553507\n",
       "Fireplaces              1.580719\n",
       "GarageCars              1.600593\n",
       "MasVnrArea              1.833433\n",
       "KitchenQual             1.927657\n",
       "GarageArea              1.980381\n",
       "LotArea                 2.001647\n",
       "TotalBsmtSF             2.017828\n",
       "ExterQual               2.030996\n",
       "1stFlrSF                2.080765\n",
       "LowQualFinSF            2.132682\n",
       "OverallQual             2.165517\n",
       "QualMetric              2.215356\n",
       "GarageQual              2.560460\n",
       "GrLivArea               2.599646\n",
       "TotalArea               2.775358\n",
       "TotRmsAbvGrd            2.797788\n",
       "Neighborhood_StoneBr    2.828884\n",
       "ScreenPorch             2.933890\n",
       "SalePriceLog            2.951719\n",
       "SalePrice               4.821872\n",
       "Length: 70, dtype: float64"
      ]
     },
     "execution_count": 17,
     "metadata": {},
     "output_type": "execute_result"
    }
   ],
   "source": [
    "## Examining 5 most under predicted to find indications of features that drove them away from model\n",
    "df_std.loc[under_pred5].mean().sort_values()"
   ]
  },
  {
   "cell_type": "code",
   "execution_count": 18,
   "metadata": {},
   "outputs": [],
   "source": [
    "## Storing 5 most over predicted values\n",
    "over_pred5 = list(df.sort_values(by='error').tail(5).index)"
   ]
  },
  {
   "cell_type": "code",
   "execution_count": 19,
   "metadata": {
    "scrolled": true
   },
   "outputs": [
    {
     "data": {
      "text/plain": [
       "OverallCond            -1.052468\n",
       "LotFrontage            -0.862445\n",
       "YrSold                 -0.743862\n",
       "HeatingQC              -0.579388\n",
       "PID                    -0.551971\n",
       "SalePrice              -0.504670\n",
       "BsmtFullBath           -0.435418\n",
       "SalePriceLog           -0.406048\n",
       "BsmtFinSF1             -0.337244\n",
       "HouseAge               -0.327839\n",
       "MSSubClass_50          -0.326885\n",
       "EnclosedPorch          -0.323780\n",
       "BsmtFinType1           -0.320366\n",
       "Neighborhood_OldTown   -0.293828\n",
       "ScreenPorch            -0.287856\n",
       "Neighborhood_Edwards   -0.273766\n",
       "BsmtExposure           -0.261254\n",
       "BsmtHalfBath           -0.252125\n",
       "Neighborhood_NridgHt   -0.251486\n",
       "MSSubClass_30          -0.227585\n",
       "KitchenAbvGr           -0.204568\n",
       "Neighborhood_IDOTRR    -0.186583\n",
       "KitchenQual            -0.176294\n",
       "Neighborhood_NoRidge   -0.154803\n",
       "LowQualFinSF           -0.107977\n",
       "3SsnPorch              -0.102738\n",
       "MiscVal                -0.089968\n",
       "MoSold                 -0.080134\n",
       "PoolArea               -0.063480\n",
       "BsmtCond               -0.032842\n",
       "                          ...   \n",
       "CentralAir              0.271702\n",
       "TotalBsmtSF             0.290701\n",
       "LotArea                 0.306993\n",
       "Fireplaces              0.327509\n",
       "YearBuilt               0.327839\n",
       "BsmtUnfSF               0.425926\n",
       "TotalBaths              0.469197\n",
       "MSSubClass_60           0.527725\n",
       "Neighborhood_Somerst    0.560703\n",
       "BsmtFinSF2              0.585843\n",
       "QualMetric              0.595064\n",
       "MSSubClass              0.630433\n",
       "Id                      0.651793\n",
       "PorchArea               0.703002\n",
       "OpenPorchSF             0.707965\n",
       "TotRmsAbvGrd            0.746302\n",
       "FullBath                0.769779\n",
       "1stFlrSF                0.772831\n",
       "WoodDeckSF              0.807406\n",
       "GarageCars              0.815613\n",
       "ExterCond               0.843002\n",
       "HalfBath                0.856346\n",
       "2ndFlrSF                0.866305\n",
       "BsmtQual                0.876835\n",
       "OverallQual             0.903176\n",
       "GarageArea              0.948335\n",
       "TotalArea               1.081731\n",
       "MasVnrArea              1.249166\n",
       "GrLivArea               1.338068\n",
       "Neighborhood_StoneBr    1.345745\n",
       "Length: 70, dtype: float64"
      ]
     },
     "execution_count": 19,
     "metadata": {},
     "output_type": "execute_result"
    }
   ],
   "source": [
    "## Examining 5 most over predicted to find indications of features that drove them away from model\n",
    "df_std.loc[over_pred5].mean().sort_values()"
   ]
  },
  {
   "cell_type": "markdown",
   "metadata": {},
   "source": [
    "# 8) Running Model on Test Data<a name=\"RunningModel\"></a>"
   ]
  },
  {
   "cell_type": "code",
   "execution_count": 20,
   "metadata": {},
   "outputs": [
    {
     "name": "stderr",
     "output_type": "stream",
     "text": [
      "/anaconda3/lib/python3.6/site-packages/numpy/core/_methods.py:121: RuntimeWarning: overflow encountered in multiply\n",
      "  x = um.multiply(x, x, out=x)\n"
     ]
    }
   ],
   "source": [
    "## Establishing X and y for test data\n",
    "test_filter = ['Neighborhood_Edwards', 'Neighborhood_IDOTRR', 'Neighborhood_NAmes',\n",
    "               'Neighborhood_NoRidge', 'Neighborhood_NridgHt',\n",
    "       'Neighborhood_OldTown', 'Neighborhood_Somerst', 'Neighborhood_StoneBr', 'TotalArea',\n",
    "       'QualMetric', 'TotalBaths', 'PorchArea','mansion','YearRemod/Add']\n",
    "X_test = test[test_filter]\n",
    "\n",
    "## Using the power transform, which was identified as the best fit above\n",
    "X_test_pt = pt.fit_transform(X_test)"
   ]
  },
  {
   "cell_type": "code",
   "execution_count": 21,
   "metadata": {},
   "outputs": [],
   "source": [
    "## Adding column for predicted Sale Prices\n",
    "## Taking the exponent to 'un-log' the PowerTransformer\n",
    "test['SalePrice'] = np.exp(ridge.predict(X_test_pt))"
   ]
  },
  {
   "cell_type": "code",
   "execution_count": 22,
   "metadata": {},
   "outputs": [],
   "source": [
    "## Exporting my two columns to CSV\n",
    "test[['Id','SalePrice']].to_csv('../submissions/JLove-Submit-test.csv', index=False)"
   ]
  },
  {
   "cell_type": "code",
   "execution_count": null,
   "metadata": {},
   "outputs": [],
   "source": []
  }
 ],
 "metadata": {
  "kernelspec": {
   "display_name": "Python 3",
   "language": "python",
   "name": "python3"
  },
  "language_info": {
   "codemirror_mode": {
    "name": "ipython",
    "version": 3
   },
   "file_extension": ".py",
   "mimetype": "text/x-python",
   "name": "python",
   "nbconvert_exporter": "python",
   "pygments_lexer": "ipython3",
   "version": "3.6.8"
  }
 },
 "nbformat": 4,
 "nbformat_minor": 2
}
